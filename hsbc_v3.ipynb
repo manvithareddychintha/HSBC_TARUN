{
  "nbformat": 4,
  "nbformat_minor": 0,
  "metadata": {
    "colab": {
      "provenance": [],
      "gpuType": "T4"
    },
    "kernelspec": {
      "name": "python3",
      "display_name": "Python 3"
    },
    "language_info": {
      "name": "python"
    },
    "accelerator": "GPU"
  },
  "cells": [
    {
      "cell_type": "code",
      "source": [
        "import pandas as pd\n",
        "import numpy as np\n",
        "import tensorflow as tf\n",
        "from sklearn.model_selection import train_test_split\n",
        "from sklearn.preprocessing import StandardScaler\n",
        "from sklearn.metrics import classification_report\n",
        "from sklearn.utils.class_weight import compute_class_weight\n",
        "\n",
        "# --- Configuration ---\n",
        "print(f\"TensorFlow Version: {tf.__version__}\")\n",
        "\n",
        "# --- 1. Load Data ---\n",
        "print(\"\\n--- 1. Loading Data ---\")\n",
        "try:\n",
        "    file_path = '/content/Dataset.csv'\n",
        "    df = pd.read_csv(file_path)\n",
        "    print(\"✅ Dataset loaded successfully.\")\n",
        "except Exception as e:\n",
        "    print(f\"❌ Error loading data: {e}\")\n",
        "    exit()\n",
        "\n",
        "# --- 2. Feature Engineering Function ---\n",
        "def preprocess_and_engineer_features(df):\n",
        "    \"\"\"Preprocesses the dataframe and creates new features.\"\"\"\n",
        "    for col in ['age', 'gender', 'category']:\n",
        "        if col in df.columns:\n",
        "            df[col] = df[col].str.replace(\"'\", \"\")\n",
        "\n",
        "    df['amount_log'] = np.log1p(df['amount'])\n",
        "    customer_avg_amount = df.groupby('customer')['amount_log'].transform('mean')\n",
        "    df['amount_vs_avg_ratio'] = df['amount_log'] / (customer_avg_amount + 1e-6)\n",
        "\n",
        "    # NOTE: Time-based features related to 'step' are now removed.\n",
        "    # df['time_delta_last_txn'] = df.groupby('customer')['step'].diff().fillna(999)\n",
        "\n",
        "    df['is_new_category'] = (df.groupby(['customer', 'category']).cumcount() == 0).astype(int)\n",
        "    df['is_new_merchant'] = (df.groupby(['customer', 'merchant']).cumcount() == 0).astype(int)\n",
        "\n",
        "    categorical_cols = ['age', 'gender', 'merchant', 'category']\n",
        "    df = pd.get_dummies(df, columns=categorical_cols, prefix=categorical_cols)\n",
        "\n",
        "    features_to_drop = ['customer', 'amount', 'zipcodeOri', 'zipMerchant']\n",
        "    df = df.drop(columns=features_to_drop)\n",
        "    return df\n",
        "\n",
        "# --- 3. Preprocessing, Splitting & Scaling ---\n",
        "print(\"\\n--- 3. Preprocessing, Splitting and Scaling Data ---\")\n",
        "processed_df = preprocess_and_engineer_features(df.copy())\n",
        "\n",
        "TARGET = 'fraud'\n",
        "# Dropping 'step' from the final feature set\n",
        "features_to_drop = ['step', TARGET]\n",
        "X = processed_df.drop(columns=features_to_drop)\n",
        "y = processed_df[TARGET]\n",
        "\n",
        "X_train, X_val, y_train, y_val = train_test_split(X, y, test_size=0.2, random_state=42, stratify=y)\n",
        "\n",
        "scaler = StandardScaler()\n",
        "X_train_scaled = scaler.fit_transform(X_train)\n",
        "X_val_scaled = scaler.transform(X_val)\n",
        "print(\"✅ Data prepped for supervised training.\")\n",
        "\n",
        "\n",
        "# --- 4. Calculate Class Weights & Build Classifier Model ---\n",
        "print(\"\\n--- 4. Calculating Class Weights & Building Classifier ---\")\n",
        "weights = compute_class_weight('balanced', classes=np.unique(y_train), y=y_train)\n",
        "class_weights = {i : weights[i] for i in range(2)}\n",
        "print(f\"Calculated Class Weights: {class_weights}\")\n",
        "\n",
        "input_dim = X_train_scaled.shape[1]\n",
        "classifier = tf.keras.models.Sequential([\n",
        "    tf.keras.layers.InputLayer(input_shape=(input_dim,)),\n",
        "    tf.keras.layers.Dense(128, activation='relu'),\n",
        "    tf.keras.layers.Dense(64, activation='relu'),\n",
        "    tf.keras.layers.Dense(32, activation='relu'),\n",
        "    tf.keras.layers.Dense(1, activation='sigmoid')\n",
        "])\n",
        "\n",
        "classifier.compile(\n",
        "    optimizer=tf.keras.optimizers.Adam(learning_rate=0.001),\n",
        "    loss='binary_crossentropy',\n",
        "    metrics=['accuracy', tf.keras.metrics.Precision(), tf.keras.metrics.Recall()]\n",
        ")\n",
        "classifier.summary()\n",
        "\n",
        "# --- 5. Train the Supervised Classifier ---\n",
        "print(\"\\n--- 5. Training Classifier Model ---\")\n",
        "early_stopping = tf.keras.callbacks.EarlyStopping(\n",
        "    monitor='val_recall',\n",
        "    patience=5,\n",
        "    restore_best_weights=True,\n",
        "    mode='max'\n",
        ")\n",
        "history = classifier.fit(\n",
        "    X_train_scaled,\n",
        "    y_train,\n",
        "    epochs=50,\n",
        "    batch_size=256,\n",
        "    shuffle=True,\n",
        "    validation_data=(X_val_scaled, y_val),\n",
        "    class_weight=class_weights,\n",
        "    callbacks=[early_stopping],\n",
        "    verbose=1\n",
        ")\n",
        "print(\"✅ Model training complete.\")\n",
        "\n",
        "# --- 6. Final Evaluation ---\n",
        "print(\"\\n--- 6. Final Performance on Validation Set ---\")\n",
        "y_pred_proba = classifier.predict(X_val_scaled)\n",
        "y_pred = (y_pred_proba > 0.9485).astype(int)\n",
        "\n",
        "print(classification_report(y_val, y_pred, target_names=['Legitimate', 'Fraud']))"
      ],
      "metadata": {
        "colab": {
          "base_uri": "https://localhost:8080/",
          "height": 1000
        },
        "id": "fCi3g-qLYY4Z",
        "outputId": "d3a1b789-463f-418f-c80d-5784c29c4ece"
      },
      "execution_count": 5,
      "outputs": [
        {
          "output_type": "stream",
          "name": "stdout",
          "text": [
            "TensorFlow Version: 2.18.0\n",
            "\n",
            "--- 1. Loading Data ---\n",
            "✅ Dataset loaded successfully.\n",
            "\n",
            "--- 3. Preprocessing, Splitting and Scaling Data ---\n",
            "✅ Data prepped for supervised training.\n",
            "\n",
            "--- 4. Calculating Class Weights & Building Classifier ---\n",
            "Calculated Class Weights: {0: np.float64(0.5061402347333478), 1: np.float64(41.21505583365422)}\n"
          ]
        },
        {
          "output_type": "stream",
          "name": "stderr",
          "text": [
            "/usr/local/lib/python3.11/dist-packages/keras/src/layers/core/input_layer.py:27: UserWarning: Argument `input_shape` is deprecated. Use `shape` instead.\n",
            "  warnings.warn(\n"
          ]
        },
        {
          "output_type": "display_data",
          "data": {
            "text/plain": [
              "\u001b[1mModel: \"sequential_1\"\u001b[0m\n"
            ],
            "text/html": [
              "<pre style=\"white-space:pre;overflow-x:auto;line-height:normal;font-family:Menlo,'DejaVu Sans Mono',consolas,'Courier New',monospace\"><span style=\"font-weight: bold\">Model: \"sequential_1\"</span>\n",
              "</pre>\n"
            ]
          },
          "metadata": {}
        },
        {
          "output_type": "display_data",
          "data": {
            "text/plain": [
              "┏━━━━━━━━━━━━━━━━━━━━━━━━━━━━━━━━━┳━━━━━━━━━━━━━━━━━━━━━━━━┳━━━━━━━━━━━━━━━┓\n",
              "┃\u001b[1m \u001b[0m\u001b[1mLayer (type)                   \u001b[0m\u001b[1m \u001b[0m┃\u001b[1m \u001b[0m\u001b[1mOutput Shape          \u001b[0m\u001b[1m \u001b[0m┃\u001b[1m \u001b[0m\u001b[1m      Param #\u001b[0m\u001b[1m \u001b[0m┃\n",
              "┡━━━━━━━━━━━━━━━━━━━━━━━━━━━━━━━━━╇━━━━━━━━━━━━━━━━━━━━━━━━╇━━━━━━━━━━━━━━━┩\n",
              "│ dense_4 (\u001b[38;5;33mDense\u001b[0m)                 │ (\u001b[38;5;45mNone\u001b[0m, \u001b[38;5;34m128\u001b[0m)            │        \u001b[38;5;34m10,496\u001b[0m │\n",
              "├─────────────────────────────────┼────────────────────────┼───────────────┤\n",
              "│ dense_5 (\u001b[38;5;33mDense\u001b[0m)                 │ (\u001b[38;5;45mNone\u001b[0m, \u001b[38;5;34m64\u001b[0m)             │         \u001b[38;5;34m8,256\u001b[0m │\n",
              "├─────────────────────────────────┼────────────────────────┼───────────────┤\n",
              "│ dense_6 (\u001b[38;5;33mDense\u001b[0m)                 │ (\u001b[38;5;45mNone\u001b[0m, \u001b[38;5;34m32\u001b[0m)             │         \u001b[38;5;34m2,080\u001b[0m │\n",
              "├─────────────────────────────────┼────────────────────────┼───────────────┤\n",
              "│ dense_7 (\u001b[38;5;33mDense\u001b[0m)                 │ (\u001b[38;5;45mNone\u001b[0m, \u001b[38;5;34m1\u001b[0m)              │            \u001b[38;5;34m33\u001b[0m │\n",
              "└─────────────────────────────────┴────────────────────────┴───────────────┘\n"
            ],
            "text/html": [
              "<pre style=\"white-space:pre;overflow-x:auto;line-height:normal;font-family:Menlo,'DejaVu Sans Mono',consolas,'Courier New',monospace\">┏━━━━━━━━━━━━━━━━━━━━━━━━━━━━━━━━━┳━━━━━━━━━━━━━━━━━━━━━━━━┳━━━━━━━━━━━━━━━┓\n",
              "┃<span style=\"font-weight: bold\"> Layer (type)                    </span>┃<span style=\"font-weight: bold\"> Output Shape           </span>┃<span style=\"font-weight: bold\">       Param # </span>┃\n",
              "┡━━━━━━━━━━━━━━━━━━━━━━━━━━━━━━━━━╇━━━━━━━━━━━━━━━━━━━━━━━━╇━━━━━━━━━━━━━━━┩\n",
              "│ dense_4 (<span style=\"color: #0087ff; text-decoration-color: #0087ff\">Dense</span>)                 │ (<span style=\"color: #00d7ff; text-decoration-color: #00d7ff\">None</span>, <span style=\"color: #00af00; text-decoration-color: #00af00\">128</span>)            │        <span style=\"color: #00af00; text-decoration-color: #00af00\">10,496</span> │\n",
              "├─────────────────────────────────┼────────────────────────┼───────────────┤\n",
              "│ dense_5 (<span style=\"color: #0087ff; text-decoration-color: #0087ff\">Dense</span>)                 │ (<span style=\"color: #00d7ff; text-decoration-color: #00d7ff\">None</span>, <span style=\"color: #00af00; text-decoration-color: #00af00\">64</span>)             │         <span style=\"color: #00af00; text-decoration-color: #00af00\">8,256</span> │\n",
              "├─────────────────────────────────┼────────────────────────┼───────────────┤\n",
              "│ dense_6 (<span style=\"color: #0087ff; text-decoration-color: #0087ff\">Dense</span>)                 │ (<span style=\"color: #00d7ff; text-decoration-color: #00d7ff\">None</span>, <span style=\"color: #00af00; text-decoration-color: #00af00\">32</span>)             │         <span style=\"color: #00af00; text-decoration-color: #00af00\">2,080</span> │\n",
              "├─────────────────────────────────┼────────────────────────┼───────────────┤\n",
              "│ dense_7 (<span style=\"color: #0087ff; text-decoration-color: #0087ff\">Dense</span>)                 │ (<span style=\"color: #00d7ff; text-decoration-color: #00d7ff\">None</span>, <span style=\"color: #00af00; text-decoration-color: #00af00\">1</span>)              │            <span style=\"color: #00af00; text-decoration-color: #00af00\">33</span> │\n",
              "└─────────────────────────────────┴────────────────────────┴───────────────┘\n",
              "</pre>\n"
            ]
          },
          "metadata": {}
        },
        {
          "output_type": "display_data",
          "data": {
            "text/plain": [
              "\u001b[1m Total params: \u001b[0m\u001b[38;5;34m20,865\u001b[0m (81.50 KB)\n"
            ],
            "text/html": [
              "<pre style=\"white-space:pre;overflow-x:auto;line-height:normal;font-family:Menlo,'DejaVu Sans Mono',consolas,'Courier New',monospace\"><span style=\"font-weight: bold\"> Total params: </span><span style=\"color: #00af00; text-decoration-color: #00af00\">20,865</span> (81.50 KB)\n",
              "</pre>\n"
            ]
          },
          "metadata": {}
        },
        {
          "output_type": "display_data",
          "data": {
            "text/plain": [
              "\u001b[1m Trainable params: \u001b[0m\u001b[38;5;34m20,865\u001b[0m (81.50 KB)\n"
            ],
            "text/html": [
              "<pre style=\"white-space:pre;overflow-x:auto;line-height:normal;font-family:Menlo,'DejaVu Sans Mono',consolas,'Courier New',monospace\"><span style=\"font-weight: bold\"> Trainable params: </span><span style=\"color: #00af00; text-decoration-color: #00af00\">20,865</span> (81.50 KB)\n",
              "</pre>\n"
            ]
          },
          "metadata": {}
        },
        {
          "output_type": "display_data",
          "data": {
            "text/plain": [
              "\u001b[1m Non-trainable params: \u001b[0m\u001b[38;5;34m0\u001b[0m (0.00 B)\n"
            ],
            "text/html": [
              "<pre style=\"white-space:pre;overflow-x:auto;line-height:normal;font-family:Menlo,'DejaVu Sans Mono',consolas,'Courier New',monospace\"><span style=\"font-weight: bold\"> Non-trainable params: </span><span style=\"color: #00af00; text-decoration-color: #00af00\">0</span> (0.00 B)\n",
              "</pre>\n"
            ]
          },
          "metadata": {}
        },
        {
          "output_type": "stream",
          "name": "stdout",
          "text": [
            "\n",
            "--- 5. Training Classifier Model ---\n",
            "Epoch 1/50\n",
            "\u001b[1m1673/1673\u001b[0m \u001b[32m━━━━━━━━━━━━━━━━━━━━\u001b[0m\u001b[37m\u001b[0m \u001b[1m10s\u001b[0m 5ms/step - accuracy: 0.9344 - loss: 0.1266 - precision_1: 0.1811 - recall_1: 0.9759 - val_accuracy: 0.9588 - val_loss: 0.0952 - val_precision_1: 0.2270 - val_recall_1: 0.9961\n",
            "Epoch 2/50\n",
            "\u001b[1m  42/1673\u001b[0m \u001b[37m━━━━━━━━━━━━━━━━━━━━\u001b[0m \u001b[1m4s\u001b[0m 3ms/step - accuracy: 0.9601 - loss: 0.0569 - precision_1: 0.2387 - recall_1: 0.9998"
          ]
        },
        {
          "output_type": "stream",
          "name": "stderr",
          "text": [
            "/usr/local/lib/python3.11/dist-packages/keras/src/callbacks/early_stopping.py:153: UserWarning: Early stopping conditioned on metric `val_recall` which is not available. Available metrics are: accuracy,loss,precision_1,recall_1,val_accuracy,val_loss,val_precision_1,val_recall_1\n",
            "  current = self.get_monitor_value(logs)\n"
          ]
        },
        {
          "output_type": "stream",
          "name": "stdout",
          "text": [
            "\u001b[1m1673/1673\u001b[0m \u001b[32m━━━━━━━━━━━━━━━━━━━━\u001b[0m\u001b[37m\u001b[0m \u001b[1m6s\u001b[0m 4ms/step - accuracy: 0.9668 - loss: 0.0575 - precision_1: 0.2674 - recall_1: 0.9890 - val_accuracy: 0.9727 - val_loss: 0.0672 - val_precision_1: 0.3059 - val_recall_1: 0.9869\n",
            "Epoch 3/50\n",
            "\u001b[1m1673/1673\u001b[0m \u001b[32m━━━━━━━━━━━━━━━━━━━━\u001b[0m\u001b[37m\u001b[0m \u001b[1m5s\u001b[0m 3ms/step - accuracy: 0.9698 - loss: 0.0540 - precision_1: 0.2867 - recall_1: 0.9899 - val_accuracy: 0.9753 - val_loss: 0.0638 - val_precision_1: 0.3272 - val_recall_1: 0.9831\n",
            "Epoch 4/50\n",
            "\u001b[1m1673/1673\u001b[0m \u001b[32m━━━━━━━━━━━━━━━━━━━━\u001b[0m\u001b[37m\u001b[0m \u001b[1m10s\u001b[0m 3ms/step - accuracy: 0.9744 - loss: 0.0504 - precision_1: 0.3155 - recall_1: 0.9842 - val_accuracy: 0.9721 - val_loss: 0.0689 - val_precision_1: 0.3016 - val_recall_1: 0.9869\n",
            "Epoch 5/50\n",
            "\u001b[1m1673/1673\u001b[0m \u001b[32m━━━━━━━━━━━━━━━━━━━━\u001b[0m\u001b[37m\u001b[0m \u001b[1m10s\u001b[0m 3ms/step - accuracy: 0.9735 - loss: 0.0492 - precision_1: 0.3127 - recall_1: 0.9900 - val_accuracy: 0.9670 - val_loss: 0.0700 - val_precision_1: 0.2679 - val_recall_1: 0.9908\n",
            "Epoch 6/50\n",
            "\u001b[1m1673/1673\u001b[0m \u001b[32m━━━━━━━━━━━━━━━━━━━━\u001b[0m\u001b[37m\u001b[0m \u001b[1m10s\u001b[0m 3ms/step - accuracy: 0.9746 - loss: 0.0494 - precision_1: 0.3206 - recall_1: 0.9876 - val_accuracy: 0.9771 - val_loss: 0.0599 - val_precision_1: 0.3439 - val_recall_1: 0.9823\n",
            "Epoch 7/50\n",
            "\u001b[1m1673/1673\u001b[0m \u001b[32m━━━━━━━━━━━━━━━━━━━━\u001b[0m\u001b[37m\u001b[0m \u001b[1m6s\u001b[0m 3ms/step - accuracy: 0.9763 - loss: 0.0477 - precision_1: 0.3334 - recall_1: 0.9894 - val_accuracy: 0.9770 - val_loss: 0.0576 - val_precision_1: 0.3437 - val_recall_1: 0.9838\n",
            "Epoch 8/50\n",
            "\u001b[1m1673/1673\u001b[0m \u001b[32m━━━━━━━━━━━━━━━━━━━━\u001b[0m\u001b[37m\u001b[0m \u001b[1m10s\u001b[0m 3ms/step - accuracy: 0.9761 - loss: 0.0473 - precision_1: 0.3324 - recall_1: 0.9863 - val_accuracy: 0.9777 - val_loss: 0.0521 - val_precision_1: 0.3509 - val_recall_1: 0.9838\n",
            "Epoch 9/50\n",
            "\u001b[1m1673/1673\u001b[0m \u001b[32m━━━━━━━━━━━━━━━━━━━━\u001b[0m\u001b[37m\u001b[0m \u001b[1m6s\u001b[0m 4ms/step - accuracy: 0.9765 - loss: 0.0460 - precision_1: 0.3345 - recall_1: 0.9869 - val_accuracy: 0.9689 - val_loss: 0.0711 - val_precision_1: 0.2790 - val_recall_1: 0.9869\n",
            "Epoch 10/50\n",
            "\u001b[1m1673/1673\u001b[0m \u001b[32m━━━━━━━━━━━━━━━━━━━━\u001b[0m\u001b[37m\u001b[0m \u001b[1m10s\u001b[0m 4ms/step - accuracy: 0.9767 - loss: 0.0449 - precision_1: 0.3399 - recall_1: 0.9890 - val_accuracy: 0.9731 - val_loss: 0.0628 - val_precision_1: 0.3092 - val_recall_1: 0.9846\n",
            "Epoch 11/50\n",
            "\u001b[1m1673/1673\u001b[0m \u001b[32m━━━━━━━━━━━━━━━━━━━━\u001b[0m\u001b[37m\u001b[0m \u001b[1m6s\u001b[0m 3ms/step - accuracy: 0.9758 - loss: 0.0476 - precision_1: 0.3334 - recall_1: 0.9878 - val_accuracy: 0.9783 - val_loss: 0.0602 - val_precision_1: 0.3567 - val_recall_1: 0.9823\n",
            "Epoch 12/50\n",
            "\u001b[1m1673/1673\u001b[0m \u001b[32m━━━━━━━━━━━━━━━━━━━━\u001b[0m\u001b[37m\u001b[0m \u001b[1m10s\u001b[0m 3ms/step - accuracy: 0.9781 - loss: 0.0436 - precision_1: 0.3519 - recall_1: 0.9892 - val_accuracy: 0.9711 - val_loss: 0.0757 - val_precision_1: 0.2943 - val_recall_1: 0.9884\n",
            "Epoch 13/50\n",
            "\u001b[1m1673/1673\u001b[0m \u001b[32m━━━━━━━━━━━━━━━━━━━━\u001b[0m\u001b[37m\u001b[0m \u001b[1m6s\u001b[0m 3ms/step - accuracy: 0.9780 - loss: 0.0433 - precision_1: 0.3585 - recall_1: 0.9899 - val_accuracy: 0.9765 - val_loss: 0.0599 - val_precision_1: 0.3386 - val_recall_1: 0.9831\n",
            "Epoch 14/50\n",
            "\u001b[1m1673/1673\u001b[0m \u001b[32m━━━━━━━━━━━━━━━━━━━━\u001b[0m\u001b[37m\u001b[0m \u001b[1m10s\u001b[0m 3ms/step - accuracy: 0.9762 - loss: 0.0442 - precision_1: 0.3324 - recall_1: 0.9892 - val_accuracy: 0.9796 - val_loss: 0.0600 - val_precision_1: 0.3712 - val_recall_1: 0.9792\n",
            "Epoch 15/50\n",
            "\u001b[1m1673/1673\u001b[0m \u001b[32m━━━━━━━━━━━━━━━━━━━━\u001b[0m\u001b[37m\u001b[0m \u001b[1m6s\u001b[0m 4ms/step - accuracy: 0.9793 - loss: 0.0423 - precision_1: 0.3631 - recall_1: 0.9889 - val_accuracy: 0.9745 - val_loss: 0.0584 - val_precision_1: 0.3202 - val_recall_1: 0.9838\n",
            "Epoch 16/50\n",
            "\u001b[1m1673/1673\u001b[0m \u001b[32m━━━━━━━━━━━━━━━━━━━━\u001b[0m\u001b[37m\u001b[0m \u001b[1m10s\u001b[0m 4ms/step - accuracy: 0.9760 - loss: 0.0450 - precision_1: 0.3368 - recall_1: 0.9912 - val_accuracy: 0.9773 - val_loss: 0.0581 - val_precision_1: 0.3468 - val_recall_1: 0.9823\n",
            "Epoch 17/50\n",
            "\u001b[1m1673/1673\u001b[0m \u001b[32m━━━━━━━━━━━━━━━━━━━━\u001b[0m\u001b[37m\u001b[0m \u001b[1m10s\u001b[0m 3ms/step - accuracy: 0.9766 - loss: 0.0438 - precision_1: 0.3438 - recall_1: 0.9910 - val_accuracy: 0.9760 - val_loss: 0.0573 - val_precision_1: 0.3332 - val_recall_1: 0.9815\n",
            "Epoch 18/50\n",
            "\u001b[1m1673/1673\u001b[0m \u001b[32m━━━━━━━━━━━━━━━━━━━━\u001b[0m\u001b[37m\u001b[0m \u001b[1m10s\u001b[0m 3ms/step - accuracy: 0.9769 - loss: 0.0471 - precision_1: 0.3411 - recall_1: 0.9884 - val_accuracy: 0.9772 - val_loss: 0.0505 - val_precision_1: 0.3454 - val_recall_1: 0.9831\n",
            "Epoch 19/50\n",
            "\u001b[1m1673/1673\u001b[0m \u001b[32m━━━━━━━━━━━━━━━━━━━━\u001b[0m\u001b[37m\u001b[0m \u001b[1m6s\u001b[0m 4ms/step - accuracy: 0.9777 - loss: 0.0427 - precision_1: 0.3535 - recall_1: 0.9904 - val_accuracy: 0.9707 - val_loss: 0.0688 - val_precision_1: 0.2915 - val_recall_1: 0.9877\n",
            "Epoch 20/50\n",
            "\u001b[1m1673/1673\u001b[0m \u001b[32m━━━━━━━━━━━━━━━━━━━━\u001b[0m\u001b[37m\u001b[0m \u001b[1m10s\u001b[0m 4ms/step - accuracy: 0.9775 - loss: 0.0416 - precision_1: 0.3461 - recall_1: 0.9912 - val_accuracy: 0.9771 - val_loss: 0.0596 - val_precision_1: 0.3440 - val_recall_1: 0.9823\n",
            "Epoch 21/50\n",
            "\u001b[1m1673/1673\u001b[0m \u001b[32m━━━━━━━━━━━━━━━━━━━━\u001b[0m\u001b[37m\u001b[0m \u001b[1m10s\u001b[0m 3ms/step - accuracy: 0.9771 - loss: 0.0432 - precision_1: 0.3509 - recall_1: 0.9909 - val_accuracy: 0.9766 - val_loss: 0.0577 - val_precision_1: 0.3395 - val_recall_1: 0.9807\n",
            "Epoch 22/50\n",
            "\u001b[1m1673/1673\u001b[0m \u001b[32m━━━━━━━━━━━━━━━━━━━━\u001b[0m\u001b[37m\u001b[0m \u001b[1m10s\u001b[0m 3ms/step - accuracy: 0.9775 - loss: 0.0421 - precision_1: 0.3515 - recall_1: 0.9900 - val_accuracy: 0.9613 - val_loss: 0.0776 - val_precision_1: 0.2382 - val_recall_1: 0.9954\n",
            "Epoch 23/50\n",
            "\u001b[1m1673/1673\u001b[0m \u001b[32m━━━━━━━━━━━━━━━━━━━━\u001b[0m\u001b[37m\u001b[0m \u001b[1m6s\u001b[0m 4ms/step - accuracy: 0.9753 - loss: 0.0433 - precision_1: 0.3284 - recall_1: 0.9929 - val_accuracy: 0.9814 - val_loss: 0.0472 - val_precision_1: 0.3929 - val_recall_1: 0.9784\n",
            "Epoch 24/50\n",
            "\u001b[1m1673/1673\u001b[0m \u001b[32m━━━━━━━━━━━━━━━━━━━━\u001b[0m\u001b[37m\u001b[0m \u001b[1m10s\u001b[0m 4ms/step - accuracy: 0.9791 - loss: 0.0410 - precision_1: 0.3709 - recall_1: 0.9930 - val_accuracy: 0.9760 - val_loss: 0.0622 - val_precision_1: 0.3342 - val_recall_1: 0.9846\n",
            "Epoch 25/50\n",
            "\u001b[1m1673/1673\u001b[0m \u001b[32m━━━━━━━━━━━━━━━━━━━━\u001b[0m\u001b[37m\u001b[0m \u001b[1m5s\u001b[0m 3ms/step - accuracy: 0.9780 - loss: 0.0427 - precision_1: 0.3544 - recall_1: 0.9895 - val_accuracy: 0.9734 - val_loss: 0.0604 - val_precision_1: 0.3113 - val_recall_1: 0.9854\n",
            "Epoch 26/50\n",
            "\u001b[1m1673/1673\u001b[0m \u001b[32m━━━━━━━━━━━━━━━━━━━━\u001b[0m\u001b[37m\u001b[0m \u001b[1m6s\u001b[0m 4ms/step - accuracy: 0.9781 - loss: 0.0415 - precision_1: 0.3598 - recall_1: 0.9918 - val_accuracy: 0.9756 - val_loss: 0.0565 - val_precision_1: 0.3300 - val_recall_1: 0.9854\n",
            "Epoch 27/50\n",
            "\u001b[1m1673/1673\u001b[0m \u001b[32m━━━━━━━━━━━━━━━━━━━━\u001b[0m\u001b[37m\u001b[0m \u001b[1m6s\u001b[0m 3ms/step - accuracy: 0.9788 - loss: 0.0405 - precision_1: 0.3645 - recall_1: 0.9912 - val_accuracy: 0.9827 - val_loss: 0.0470 - val_precision_1: 0.4095 - val_recall_1: 0.9730\n",
            "Epoch 28/50\n",
            "\u001b[1m1673/1673\u001b[0m \u001b[32m━━━━━━━━━━━━━━━━━━━━\u001b[0m\u001b[37m\u001b[0m \u001b[1m6s\u001b[0m 4ms/step - accuracy: 0.9781 - loss: 0.0417 - precision_1: 0.3570 - recall_1: 0.9908 - val_accuracy: 0.9823 - val_loss: 0.0468 - val_precision_1: 0.4045 - val_recall_1: 0.9761\n",
            "Epoch 29/50\n",
            "\u001b[1m1673/1673\u001b[0m \u001b[32m━━━━━━━━━━━━━━━━━━━━\u001b[0m\u001b[37m\u001b[0m \u001b[1m6s\u001b[0m 4ms/step - accuracy: 0.9786 - loss: 0.0417 - precision_1: 0.3630 - recall_1: 0.9905 - val_accuracy: 0.9719 - val_loss: 0.0610 - val_precision_1: 0.2997 - val_recall_1: 0.9877\n",
            "Epoch 30/50\n",
            "\u001b[1m1673/1673\u001b[0m \u001b[32m━━━━━━━━━━━━━━━━━━━━\u001b[0m\u001b[37m\u001b[0m \u001b[1m10s\u001b[0m 4ms/step - accuracy: 0.9770 - loss: 0.0432 - precision_1: 0.3447 - recall_1: 0.9923 - val_accuracy: 0.9765 - val_loss: 0.0548 - val_precision_1: 0.3392 - val_recall_1: 0.9846\n",
            "Epoch 31/50\n",
            "\u001b[1m1673/1673\u001b[0m \u001b[32m━━━━━━━━━━━━━━━━━━━━\u001b[0m\u001b[37m\u001b[0m \u001b[1m5s\u001b[0m 3ms/step - accuracy: 0.9787 - loss: 0.0402 - precision_1: 0.3691 - recall_1: 0.9925 - val_accuracy: 0.9799 - val_loss: 0.0487 - val_precision_1: 0.3737 - val_recall_1: 0.9769\n",
            "Epoch 32/50\n",
            "\u001b[1m1673/1673\u001b[0m \u001b[32m━━━━━━━━━━━━━━━━━━━━\u001b[0m\u001b[37m\u001b[0m \u001b[1m7s\u001b[0m 4ms/step - accuracy: 0.9782 - loss: 0.0416 - precision_1: 0.3655 - recall_1: 0.9917 - val_accuracy: 0.9798 - val_loss: 0.0461 - val_precision_1: 0.3733 - val_recall_1: 0.9792\n",
            "Epoch 33/50\n",
            "\u001b[1m1673/1673\u001b[0m \u001b[32m━━━━━━━━━━━━━━━━━━━━\u001b[0m\u001b[37m\u001b[0m \u001b[1m5s\u001b[0m 3ms/step - accuracy: 0.9799 - loss: 0.0392 - precision_1: 0.3711 - recall_1: 0.9918 - val_accuracy: 0.9787 - val_loss: 0.0515 - val_precision_1: 0.3606 - val_recall_1: 0.9831\n",
            "Epoch 34/50\n",
            "\u001b[1m1673/1673\u001b[0m \u001b[32m━━━━━━━━━━━━━━━━━━━━\u001b[0m\u001b[37m\u001b[0m \u001b[1m6s\u001b[0m 4ms/step - accuracy: 0.9783 - loss: 0.0404 - precision_1: 0.3530 - recall_1: 0.9924 - val_accuracy: 0.9820 - val_loss: 0.0519 - val_precision_1: 0.4001 - val_recall_1: 0.9730\n",
            "Epoch 35/50\n",
            "\u001b[1m1673/1673\u001b[0m \u001b[32m━━━━━━━━━━━━━━━━━━━━\u001b[0m\u001b[37m\u001b[0m \u001b[1m10s\u001b[0m 4ms/step - accuracy: 0.9804 - loss: 0.0389 - precision_1: 0.3829 - recall_1: 0.9908 - val_accuracy: 0.9783 - val_loss: 0.0577 - val_precision_1: 0.3561 - val_recall_1: 0.9807\n",
            "Epoch 36/50\n",
            "\u001b[1m1673/1673\u001b[0m \u001b[32m━━━━━━━━━━━━━━━━━━━━\u001b[0m\u001b[37m\u001b[0m \u001b[1m9s\u001b[0m 3ms/step - accuracy: 0.9800 - loss: 0.0410 - precision_1: 0.3758 - recall_1: 0.9913 - val_accuracy: 0.9801 - val_loss: 0.0493 - val_precision_1: 0.3763 - val_recall_1: 0.9784\n",
            "Epoch 37/50\n",
            "\u001b[1m1673/1673\u001b[0m \u001b[32m━━━━━━━━━━━━━━━━━━━━\u001b[0m\u001b[37m\u001b[0m \u001b[1m11s\u001b[0m 3ms/step - accuracy: 0.9801 - loss: 0.0395 - precision_1: 0.3839 - recall_1: 0.9921 - val_accuracy: 0.9804 - val_loss: 0.0603 - val_precision_1: 0.3810 - val_recall_1: 0.9831\n",
            "Epoch 38/50\n",
            "\u001b[1m1673/1673\u001b[0m \u001b[32m━━━━━━━━━━━━━━━━━━━━\u001b[0m\u001b[37m\u001b[0m \u001b[1m10s\u001b[0m 3ms/step - accuracy: 0.9807 - loss: 0.0396 - precision_1: 0.3779 - recall_1: 0.9909 - val_accuracy: 0.9766 - val_loss: 0.0622 - val_precision_1: 0.3397 - val_recall_1: 0.9831\n",
            "Epoch 39/50\n",
            "\u001b[1m1673/1673\u001b[0m \u001b[32m━━━━━━━━━━━━━━━━━━━━\u001b[0m\u001b[37m\u001b[0m \u001b[1m7s\u001b[0m 4ms/step - accuracy: 0.9795 - loss: 0.0391 - precision_1: 0.3672 - recall_1: 0.9938 - val_accuracy: 0.9804 - val_loss: 0.0505 - val_precision_1: 0.3801 - val_recall_1: 0.9769\n",
            "Epoch 40/50\n",
            "\u001b[1m1673/1673\u001b[0m \u001b[32m━━━━━━━━━━━━━━━━━━━━\u001b[0m\u001b[37m\u001b[0m \u001b[1m11s\u001b[0m 4ms/step - accuracy: 0.9801 - loss: 0.0388 - precision_1: 0.3810 - recall_1: 0.9933 - val_accuracy: 0.9821 - val_loss: 0.0449 - val_precision_1: 0.4023 - val_recall_1: 0.9769\n",
            "Epoch 41/50\n",
            "\u001b[1m1673/1673\u001b[0m \u001b[32m━━━━━━━━━━━━━━━━━━━━\u001b[0m\u001b[37m\u001b[0m \u001b[1m5s\u001b[0m 3ms/step - accuracy: 0.9810 - loss: 0.0372 - precision_1: 0.3894 - recall_1: 0.9948 - val_accuracy: 0.9810 - val_loss: 0.0491 - val_precision_1: 0.3870 - val_recall_1: 0.9723\n",
            "Epoch 42/50\n",
            "\u001b[1m1673/1673\u001b[0m \u001b[32m━━━━━━━━━━━━━━━━━━━━\u001b[0m\u001b[37m\u001b[0m \u001b[1m6s\u001b[0m 4ms/step - accuracy: 0.9791 - loss: 0.0381 - precision_1: 0.3681 - recall_1: 0.9934 - val_accuracy: 0.9770 - val_loss: 0.0509 - val_precision_1: 0.3431 - val_recall_1: 0.9831\n",
            "Epoch 43/50\n",
            "\u001b[1m1673/1673\u001b[0m \u001b[32m━━━━━━━━━━━━━━━━━━━━\u001b[0m\u001b[37m\u001b[0m \u001b[1m10s\u001b[0m 3ms/step - accuracy: 0.9797 - loss: 0.0390 - precision_1: 0.3732 - recall_1: 0.9942 - val_accuracy: 0.9768 - val_loss: 0.0623 - val_precision_1: 0.3410 - val_recall_1: 0.9831\n",
            "Epoch 44/50\n",
            "\u001b[1m1673/1673\u001b[0m \u001b[32m━━━━━━━━━━━━━━━━━━━━\u001b[0m\u001b[37m\u001b[0m \u001b[1m6s\u001b[0m 4ms/step - accuracy: 0.9799 - loss: 0.0384 - precision_1: 0.3764 - recall_1: 0.9933 - val_accuracy: 0.9765 - val_loss: 0.0565 - val_precision_1: 0.3383 - val_recall_1: 0.9846\n",
            "Epoch 45/50\n",
            "\u001b[1m1673/1673\u001b[0m \u001b[32m━━━━━━━━━━━━━━━━━━━━\u001b[0m\u001b[37m\u001b[0m \u001b[1m11s\u001b[0m 4ms/step - accuracy: 0.9806 - loss: 0.0382 - precision_1: 0.3853 - recall_1: 0.9923 - val_accuracy: 0.9733 - val_loss: 0.0665 - val_precision_1: 0.3107 - val_recall_1: 0.9854\n",
            "Epoch 46/50\n",
            "\u001b[1m1673/1673\u001b[0m \u001b[32m━━━━━━━━━━━━━━━━━━━━\u001b[0m\u001b[37m\u001b[0m \u001b[1m10s\u001b[0m 4ms/step - accuracy: 0.9797 - loss: 0.0400 - precision_1: 0.3740 - recall_1: 0.9930 - val_accuracy: 0.9806 - val_loss: 0.0515 - val_precision_1: 0.3823 - val_recall_1: 0.9769\n",
            "Epoch 47/50\n",
            "\u001b[1m1673/1673\u001b[0m \u001b[32m━━━━━━━━━━━━━━━━━━━━\u001b[0m\u001b[37m\u001b[0m \u001b[1m10s\u001b[0m 4ms/step - accuracy: 0.9814 - loss: 0.0367 - precision_1: 0.3903 - recall_1: 0.9918 - val_accuracy: 0.9718 - val_loss: 0.0707 - val_precision_1: 0.2984 - val_recall_1: 0.9831\n",
            "Epoch 48/50\n",
            "\u001b[1m1673/1673\u001b[0m \u001b[32m━━━━━━━━━━━━━━━━━━━━\u001b[0m\u001b[37m\u001b[0m \u001b[1m10s\u001b[0m 3ms/step - accuracy: 0.9799 - loss: 0.0362 - precision_1: 0.3699 - recall_1: 0.9945 - val_accuracy: 0.9802 - val_loss: 0.0499 - val_precision_1: 0.3778 - val_recall_1: 0.9746\n",
            "Epoch 49/50\n",
            "\u001b[1m1673/1673\u001b[0m \u001b[32m━━━━━━━━━━━━━━━━━━━━\u001b[0m\u001b[37m\u001b[0m \u001b[1m10s\u001b[0m 3ms/step - accuracy: 0.9795 - loss: 0.0379 - precision_1: 0.3723 - recall_1: 0.9937 - val_accuracy: 0.9792 - val_loss: 0.0513 - val_precision_1: 0.3661 - val_recall_1: 0.9769\n",
            "Epoch 50/50\n",
            "\u001b[1m1673/1673\u001b[0m \u001b[32m━━━━━━━━━━━━━━━━━━━━\u001b[0m\u001b[37m\u001b[0m \u001b[1m10s\u001b[0m 3ms/step - accuracy: 0.9804 - loss: 0.0362 - precision_1: 0.3794 - recall_1: 0.9936 - val_accuracy: 0.9801 - val_loss: 0.0528 - val_precision_1: 0.3766 - val_recall_1: 0.9730\n",
            "✅ Model training complete.\n",
            "\n",
            "--- 6. Final Performance on Validation Set ---\n",
            "\u001b[1m3345/3345\u001b[0m \u001b[32m━━━━━━━━━━━━━━━━━━━━\u001b[0m\u001b[37m\u001b[0m \u001b[1m5s\u001b[0m 1ms/step\n",
            "              precision    recall  f1-score   support\n",
            "\n",
            "  Legitimate       1.00      0.99      1.00    105738\n",
            "       Fraud       0.68      0.90      0.77      1298\n",
            "\n",
            "    accuracy                           0.99    107036\n",
            "   macro avg       0.84      0.95      0.88    107036\n",
            "weighted avg       0.99      0.99      0.99    107036\n",
            "\n"
          ]
        }
      ]
    },
    {
      "cell_type": "code",
      "source": [
        "import matplotlib.pyplot as plt\n",
        "import numpy as np\n",
        "from sklearn.metrics import classification_report, precision_recall_curve\n",
        "\n",
        "# --- 1. Get Prediction Probabilities (if needed) ---\n",
        "# This step is very fast.\n",
        "print(\"Getting model predictions...\")\n",
        "y_pred_proba = classifier.predict(X_val_scaled).ravel()\n",
        "\n",
        "# --- 2. Analyze Precision-Recall Trade-off ---\n",
        "print(\"Analyzing trade-off...\")\n",
        "precision, recall, thresholds = precision_recall_curve(y_val, y_pred_proba)\n",
        "\n",
        "# Plotting the curve\n",
        "plt.figure(figsize=(10, 7))\n",
        "plt.plot(recall, precision, marker='.', label='Precision-Recall Curve')\n",
        "plt.xlabel('Recall')\n",
        "plt.ylabel('Precision')\n",
        "plt.title('Precision-Recall Trade-off')\n",
        "plt.axhline(y=0.7, color='r', linestyle='--', label='70% Precision Target')\n",
        "plt.legend()\n",
        "plt.grid(True)\n",
        "plt.show()\n",
        "\n",
        "# --- 3. Test a New Threshold ---\n",
        "# Let's find a threshold that gives us a precision of at least 70%\n",
        "try:\n",
        "    high_precision_idx = np.where(precision >= 0.70)[0][0]\n",
        "    new_threshold = thresholds[high_precision_idx - 1]\n",
        "    print(f\"\\n🎯 To achieve ~70% precision, we can use a threshold of: {new_threshold:.4f}\")\n",
        "\n",
        "    # Evaluate with this new threshold\n",
        "    print(f\"\\n### Report with High-Precision Threshold ({new_threshold:.4f}) ###\")\n",
        "    y_pred_new = (y_pred_proba > new_threshold).astype(int)\n",
        "    print(classification_report(y_val, y_pred_new, target_names=['Legitimate', 'Fraud']))\n",
        "\n",
        "except IndexError:\n",
        "    print(\"\\nCould not find a threshold that achieves 70% precision with this model.\")"
      ],
      "metadata": {
        "colab": {
          "base_uri": "https://localhost:8080/",
          "height": 919
        },
        "id": "Bk14SP-MctNG",
        "outputId": "b9240f55-f649-45eb-83ed-fc06aac0a704"
      },
      "execution_count": 4,
      "outputs": [
        {
          "output_type": "stream",
          "name": "stdout",
          "text": [
            "Getting model predictions...\n",
            "\u001b[1m3345/3345\u001b[0m \u001b[32m━━━━━━━━━━━━━━━━━━━━\u001b[0m\u001b[37m\u001b[0m \u001b[1m5s\u001b[0m 1ms/step\n",
            "Analyzing trade-off...\n"
          ]
        },
        {
          "output_type": "display_data",
          "data": {
            "text/plain": [
              "<Figure size 1000x700 with 1 Axes>"
            ],
            "image/png": "[encoded data removed]"
          },
          "metadata": {}
        },
        {
          "output_type": "stream",
          "name": "stdout",
          "text": [
            "\n",
            "🎯 To achieve ~70% precision, we can use a threshold of: 0.9485\n",
            "\n",
            "### Report with High-Precision Threshold (0.9485) ###\n",
            "              precision    recall  f1-score   support\n",
            "\n",
            "  Legitimate       1.00      1.00      1.00    105738\n",
            "       Fraud       0.70      0.85      0.77      1298\n",
            "\n",
            "    accuracy                           0.99    107036\n",
            "   macro avg       0.85      0.92      0.88    107036\n",
            "weighted avg       0.99      0.99      0.99    107036\n",
            "\n"
          ]
        }
      ]
    }
  ]
}